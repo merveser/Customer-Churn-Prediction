{
  "metadata": {
    "kernelspec": {
      "language": "python",
      "display_name": "Python 3",
      "name": "python3"
    },
    "language_info": {
      "name": "python",
      "version": "3.11.13",
      "mimetype": "text/x-python",
      "codemirror_mode": {
        "name": "ipython",
        "version": 3
      },
      "pygments_lexer": "ipython3",
      "nbconvert_exporter": "python",
      "file_extension": ".py"
    },
    "kaggle": {
      "accelerator": "none",
      "dataSources": [
        {
          "sourceId": 18858,
          "sourceType": "datasetVersion",
          "datasetId": 13996
        }
      ],
      "dockerImageVersionId": 31089,
      "isInternetEnabled": true,
      "language": "python",
      "sourceType": "notebook",
      "isGpuEnabled": false
    },
    "colab": {
      "name": "Customer Churn Predicton",
      "provenance": []
    }
  },
  "nbformat_minor": 0,
  "nbformat": 4,
  "cells": [
    {
      "source": [
        "# IMPORTANT: RUN THIS CELL IN ORDER TO IMPORT YOUR KAGGLE DATA SOURCES,\n",
        "# THEN FEEL FREE TO DELETE THIS CELL.\n",
        "# NOTE: THIS NOTEBOOK ENVIRONMENT DIFFERS FROM KAGGLE'S PYTHON\n",
        "# ENVIRONMENT SO THERE MAY BE MISSING LIBRARIES USED BY YOUR\n",
        "# NOTEBOOK.\n",
        "import kagglehub\n",
        "blastchar_telco_customer_churn_path = kagglehub.dataset_download('blastchar/telco-customer-churn')\n",
        "\n",
        "print('Data source import complete.')\n"
      ],
      "metadata": {
        "colab": {
          "base_uri": "https://localhost:8080/"
        },
        "id": "yEnZFutWN_n0",
        "outputId": "36710e56-0a6a-4c6b-b4d4-f85a3f9b52ea"
      },
      "cell_type": "code",
      "outputs": [
        {
          "output_type": "stream",
          "name": "stdout",
          "text": [
            "Data source import complete.\n"
          ]
        }
      ],
      "execution_count": 75
    },
    {
      "cell_type": "code",
      "source": [
        "# This Python 3 environment comes with many helpful analytics libraries installed\n",
        "# It is defined by the kaggle/python Docker image: https://github.com/kaggle/docker-python\n",
        "# For example, here's several helpful packages to load\n",
        "\n",
        "import numpy as np # linear algebra\n",
        "import pandas as pd # data processing, CSV file I/O (e.g. pd.read_csv)\n",
        "\n",
        "# Input data files are available in the read-only \"../input/\" directory\n",
        "# For example, running this (by clicking run or pressing Shift+Enter) will list all files under the input directory\n",
        "\n",
        "import os\n",
        "for dirname, _, filenames in os.walk('/kaggle/input'):\n",
        "    for filename in filenames:\n",
        "        print(os.path.join(dirname, filename))\n",
        "\n",
        "# You can write up to 20GB to the current directory (/kaggle/working/) that gets preserved as output when you create a version using \"Save & Run All\"\n",
        "# You can also write temporary files to /kaggle/temp/, but they won't be saved outside of the current session"
      ],
      "metadata": {
        "_uuid": "8f2839f25d086af736a60e9eeb907d3b93b6e0e5",
        "_cell_guid": "b1076dfc-b9ad-4769-8c92-a6c4dae69d19",
        "trusted": true,
        "execution": {
          "iopub.status.busy": "2025-07-11T01:51:24.185616Z",
          "iopub.execute_input": "2025-07-11T01:51:24.18829Z",
          "iopub.status.idle": "2025-07-11T01:51:24.203856Z",
          "shell.execute_reply.started": "2025-07-11T01:51:24.188249Z",
          "shell.execute_reply": "2025-07-11T01:51:24.202012Z"
        },
        "colab": {
          "base_uri": "https://localhost:8080/"
        },
        "id": "XFUA9OQMN_n8",
        "outputId": "bd5b9be8-5f9b-4eef-c742-be3abb9fd7ae"
      },
      "outputs": [
        {
          "output_type": "stream",
          "name": "stdout",
          "text": [
            "/kaggle/input/telco-customer-churn/WA_Fn-UseC_-Telco-Customer-Churn.csv\n"
          ]
        }
      ],
      "execution_count": 76
    },
    {
      "cell_type": "markdown",
      "source": [
        "# **Libraries**"
      ],
      "metadata": {
        "id": "mFm0A613N_n-"
      }
    },
    {
      "cell_type": "code",
      "source": [
        "import pandas as pd\n",
        "import numpy as np\n",
        "import matplotlib.pyplot as plt\n",
        "import seaborn as sns\n",
        "\n",
        "from sklearn.model_selection import train_test_split, cross_val_score, GridSearchCV\n",
        "from sklearn.preprocessing import StandardScaler, LabelEncoder\n",
        "from sklearn.linear_model import LogisticRegression\n",
        "from sklearn.ensemble import RandomForestClassifier\n",
        "from sklearn.neighbors import KNeighborsClassifier\n",
        "from sklearn.metrics import accuracy_score, classification_report, confusion_matrix, roc_auc_score, f1_score, roc_curve\n",
        "\n",
        "import warnings\n",
        "warnings.filterwarnings('ignore')"
      ],
      "metadata": {
        "trusted": true,
        "execution": {
          "iopub.status.busy": "2025-07-11T01:51:24.206691Z",
          "iopub.execute_input": "2025-07-11T01:51:24.207117Z",
          "iopub.status.idle": "2025-07-11T01:51:24.252672Z",
          "shell.execute_reply.started": "2025-07-11T01:51:24.207079Z",
          "shell.execute_reply": "2025-07-11T01:51:24.25104Z"
        },
        "id": "c9JUDCPZN_oA"
      },
      "outputs": [],
      "execution_count": 77
    },
    {
      "cell_type": "markdown",
      "source": [
        "# **Exploratory Data Analysis (EDA) & Dataset Overview**"
      ],
      "metadata": {
        "id": "kEmzqCm2N_oB"
      }
    },
    {
      "cell_type": "code",
      "source": [
        "#loading data\n",
        "df = pd.read_csv('/content/Telco-Customer-Churn.csv')"
      ],
      "metadata": {
        "trusted": true,
        "execution": {
          "iopub.status.busy": "2025-07-11T01:51:24.255164Z",
          "iopub.execute_input": "2025-07-11T01:51:24.255547Z",
          "iopub.status.idle": "2025-07-11T01:51:24.346899Z",
          "shell.execute_reply.started": "2025-07-11T01:51:24.255519Z",
          "shell.execute_reply": "2025-07-11T01:51:24.343655Z"
        },
        "id": "PyaR8OESN_oC"
      },
      "outputs": [],
      "execution_count": 78
    },
    {
      "cell_type": "code",
      "source": [
        "df.head()"
      ],
      "metadata": {
        "trusted": true,
        "execution": {
          "iopub.status.busy": "2025-07-11T01:51:24.350356Z",
          "iopub.execute_input": "2025-07-11T01:51:24.350854Z",
          "iopub.status.idle": "2025-07-11T01:51:24.401026Z",
          "shell.execute_reply.started": "2025-07-11T01:51:24.350695Z",
          "shell.execute_reply": "2025-07-11T01:51:24.399586Z"
        },
        "colab": {
          "base_uri": "https://localhost:8080/",
          "height": 342
        },
        "id": "CDzgr8zPN_oD",
        "outputId": "8801723d-fddc-4e0a-dd57-531e735a4151"
      },
      "outputs": [
        {
          "output_type": "execute_result",
          "data": {
            "text/plain": [
              "   customerID  gender  SeniorCitizen Partner Dependents  tenure PhoneService  \\\n",
              "0  7590-VHVEG  Female              0     Yes         No       1           No   \n",
              "1  5575-GNVDE    Male              0      No         No      34          Yes   \n",
              "2  3668-QPYBK    Male              0      No         No       2          Yes   \n",
              "3  7795-CFOCW    Male              0      No         No      45           No   \n",
              "4  9237-HQITU  Female              0      No         No       2          Yes   \n",
              "\n",
              "      MultipleLines InternetService OnlineSecurity  ... DeviceProtection  \\\n",
              "0  No phone service             DSL             No  ...               No   \n",
              "1                No             DSL            Yes  ...              Yes   \n",
              "2                No             DSL            Yes  ...               No   \n",
              "3  No phone service             DSL            Yes  ...              Yes   \n",
              "4                No     Fiber optic             No  ...               No   \n",
              "\n",
              "  TechSupport StreamingTV StreamingMovies        Contract PaperlessBilling  \\\n",
              "0          No          No              No  Month-to-month              Yes   \n",
              "1          No          No              No        One year               No   \n",
              "2          No          No              No  Month-to-month              Yes   \n",
              "3         Yes          No              No        One year               No   \n",
              "4          No          No              No  Month-to-month              Yes   \n",
              "\n",
              "               PaymentMethod MonthlyCharges  TotalCharges Churn  \n",
              "0           Electronic check          29.85         29.85    No  \n",
              "1               Mailed check          56.95        1889.5    No  \n",
              "2               Mailed check          53.85        108.15   Yes  \n",
              "3  Bank transfer (automatic)          42.30       1840.75    No  \n",
              "4           Electronic check          70.70        151.65   Yes  \n",
              "\n",
              "[5 rows x 21 columns]"
            ],
            "text/html": [
              "\n",
              "  <div id=\"df-43ebc734-3857-4277-9c14-0ab3ba5ce796\" class=\"colab-df-container\">\n",
              "    <div>\n",
              "<style scoped>\n",
              "    .dataframe tbody tr th:only-of-type {\n",
              "        vertical-align: middle;\n",
              "    }\n",
              "\n",
              "    .dataframe tbody tr th {\n",
              "        vertical-align: top;\n",
              "    }\n",
              "\n",
              "    .dataframe thead th {\n",
              "        text-align: right;\n",
              "    }\n",
              "</style>\n",
              "<table border=\"1\" class=\"dataframe\">\n",
              "  <thead>\n",
              "    <tr style=\"text-align: right;\">\n",
              "      <th></th>\n",
              "      <th>customerID</th>\n",
              "      <th>gender</th>\n",
              "      <th>SeniorCitizen</th>\n",
              "      <th>Partner</th>\n",
              "      <th>Dependents</th>\n",
              "      <th>tenure</th>\n",
              "      <th>PhoneService</th>\n",
              "      <th>MultipleLines</th>\n",
              "      <th>InternetService</th>\n",
              "      <th>OnlineSecurity</th>\n",
              "      <th>...</th>\n",
              "      <th>DeviceProtection</th>\n",
              "      <th>TechSupport</th>\n",
              "      <th>StreamingTV</th>\n",
              "      <th>StreamingMovies</th>\n",
              "      <th>Contract</th>\n",
              "      <th>PaperlessBilling</th>\n",
              "      <th>PaymentMethod</th>\n",
              "      <th>MonthlyCharges</th>\n",
              "      <th>TotalCharges</th>\n",
              "      <th>Churn</th>\n",
              "    </tr>\n",
              "  </thead>\n",
              "  <tbody>\n",
              "    <tr>\n",
              "      <th>0</th>\n",
              "      <td>7590-VHVEG</td>\n",
              "      <td>Female</td>\n",
              "      <td>0</td>\n",
              "      <td>Yes</td>\n",
              "      <td>No</td>\n",
              "      <td>1</td>\n",
              "      <td>No</td>\n",
              "      <td>No phone service</td>\n",
              "      <td>DSL</td>\n",
              "      <td>No</td>\n",
              "      <td>...</td>\n",
              "      <td>No</td>\n",
              "      <td>No</td>\n",
              "      <td>No</td>\n",
              "      <td>No</td>\n",
              "      <td>Month-to-month</td>\n",
              "      <td>Yes</td>\n",
              "      <td>Electronic check</td>\n",
              "      <td>29.85</td>\n",
              "      <td>29.85</td>\n",
              "      <td>No</td>\n",
              "    </tr>\n",
              "    <tr>\n",
              "      <th>1</th>\n",
              "      <td>5575-GNVDE</td>\n",
              "      <td>Male</td>\n",
              "      <td>0</td>\n",
              "      <td>No</td>\n",
              "      <td>No</td>\n",
              "      <td>34</td>\n",
              "      <td>Yes</td>\n",
              "      <td>No</td>\n",
              "      <td>DSL</td>\n",
              "      <td>Yes</td>\n",
              "      <td>...</td>\n",
              "      <td>Yes</td>\n",
              "      <td>No</td>\n",
              "      <td>No</td>\n",
              "      <td>No</td>\n",
              "      <td>One year</td>\n",
              "      <td>No</td>\n",
              "      <td>Mailed check</td>\n",
              "      <td>56.95</td>\n",
              "      <td>1889.5</td>\n",
              "      <td>No</td>\n",
              "    </tr>\n",
              "    <tr>\n",
              "      <th>2</th>\n",
              "      <td>3668-QPYBK</td>\n",
              "      <td>Male</td>\n",
              "      <td>0</td>\n",
              "      <td>No</td>\n",
              "      <td>No</td>\n",
              "      <td>2</td>\n",
              "      <td>Yes</td>\n",
              "      <td>No</td>\n",
              "      <td>DSL</td>\n",
              "      <td>Yes</td>\n",
              "      <td>...</td>\n",
              "      <td>No</td>\n",
              "      <td>No</td>\n",
              "      <td>No</td>\n",
              "      <td>No</td>\n",
              "      <td>Month-to-month</td>\n",
              "      <td>Yes</td>\n",
              "      <td>Mailed check</td>\n",
              "      <td>53.85</td>\n",
              "      <td>108.15</td>\n",
              "      <td>Yes</td>\n",
              "    </tr>\n",
              "    <tr>\n",
              "      <th>3</th>\n",
              "      <td>7795-CFOCW</td>\n",
              "      <td>Male</td>\n",
              "      <td>0</td>\n",
              "      <td>No</td>\n",
              "      <td>No</td>\n",
              "      <td>45</td>\n",
              "      <td>No</td>\n",
              "      <td>No phone service</td>\n",
              "      <td>DSL</td>\n",
              "      <td>Yes</td>\n",
              "      <td>...</td>\n",
              "      <td>Yes</td>\n",
              "      <td>Yes</td>\n",
              "      <td>No</td>\n",
              "      <td>No</td>\n",
              "      <td>One year</td>\n",
              "      <td>No</td>\n",
              "      <td>Bank transfer (automatic)</td>\n",
              "      <td>42.30</td>\n",
              "      <td>1840.75</td>\n",
              "      <td>No</td>\n",
              "    </tr>\n",
              "    <tr>\n",
              "      <th>4</th>\n",
              "      <td>9237-HQITU</td>\n",
              "      <td>Female</td>\n",
              "      <td>0</td>\n",
              "      <td>No</td>\n",
              "      <td>No</td>\n",
              "      <td>2</td>\n",
              "      <td>Yes</td>\n",
              "      <td>No</td>\n",
              "      <td>Fiber optic</td>\n",
              "      <td>No</td>\n",
              "      <td>...</td>\n",
              "      <td>No</td>\n",
              "      <td>No</td>\n",
              "      <td>No</td>\n",
              "      <td>No</td>\n",
              "      <td>Month-to-month</td>\n",
              "      <td>Yes</td>\n",
              "      <td>Electronic check</td>\n",
              "      <td>70.70</td>\n",
              "      <td>151.65</td>\n",
              "      <td>Yes</td>\n",
              "    </tr>\n",
              "  </tbody>\n",
              "</table>\n",
              "<p>5 rows × 21 columns</p>\n",
              "</div>\n",
              "    <div class=\"colab-df-buttons\">\n",
              "\n",
              "  <div class=\"colab-df-container\">\n",
              "    <button class=\"colab-df-convert\" onclick=\"convertToInteractive('df-43ebc734-3857-4277-9c14-0ab3ba5ce796')\"\n",
              "            title=\"Convert this dataframe to an interactive table.\"\n",
              "            style=\"display:none;\">\n",
              "\n",
              "  <svg xmlns=\"http://www.w3.org/2000/svg\" height=\"24px\" viewBox=\"0 -960 960 960\">\n",
              "    <path d=\"M120-120v-720h720v720H120Zm60-500h600v-160H180v160Zm220 220h160v-160H400v160Zm0 220h160v-160H400v160ZM180-400h160v-160H180v160Zm440 0h160v-160H620v160ZM180-180h160v-160H180v160Zm440 0h160v-160H620v160Z\"/>\n",
              "  </svg>\n",
              "    </button>\n",
              "\n",
              "  <style>\n",
              "    .colab-df-container {\n",
              "      display:flex;\n",
              "      gap: 12px;\n",
              "    }\n",
              "\n",
              "    .colab-df-convert {\n",
              "      background-color: #E8F0FE;\n",
              "      border: none;\n",
              "      border-radius: 50%;\n",
              "      cursor: pointer;\n",
              "      display: none;\n",
              "      fill: #1967D2;\n",
              "      height: 32px;\n",
              "      padding: 0 0 0 0;\n",
              "      width: 32px;\n",
              "    }\n",
              "\n",
              "    .colab-df-convert:hover {\n",
              "      background-color: #E2EBFA;\n",
              "      box-shadow: 0px 1px 2px rgba(60, 64, 67, 0.3), 0px 1px 3px 1px rgba(60, 64, 67, 0.15);\n",
              "      fill: #174EA6;\n",
              "    }\n",
              "\n",
              "    .colab-df-buttons div {\n",
              "      margin-bottom: 4px;\n",
              "    }\n",
              "\n",
              "    [theme=dark] .colab-df-convert {\n",
              "      background-color: #3B4455;\n",
              "      fill: #D2E3FC;\n",
              "    }\n",
              "\n",
              "    [theme=dark] .colab-df-convert:hover {\n",
              "      background-color: #434B5C;\n",
              "      box-shadow: 0px 1px 3px 1px rgba(0, 0, 0, 0.15);\n",
              "      filter: drop-shadow(0px 1px 2px rgba(0, 0, 0, 0.3));\n",
              "      fill: #FFFFFF;\n",
              "    }\n",
              "  </style>\n",
              "\n",
              "    <script>\n",
              "      const buttonEl =\n",
              "        document.querySelector('#df-43ebc734-3857-4277-9c14-0ab3ba5ce796 button.colab-df-convert');\n",
              "      buttonEl.style.display =\n",
              "        google.colab.kernel.accessAllowed ? 'block' : 'none';\n",
              "\n",
              "      async function convertToInteractive(key) {\n",
              "        const element = document.querySelector('#df-43ebc734-3857-4277-9c14-0ab3ba5ce796');\n",
              "        const dataTable =\n",
              "          await google.colab.kernel.invokeFunction('convertToInteractive',\n",
              "                                                    [key], {});\n",
              "        if (!dataTable) return;\n",
              "\n",
              "        const docLinkHtml = 'Like what you see? Visit the ' +\n",
              "          '<a target=\"_blank\" href=https://colab.research.google.com/notebooks/data_table.ipynb>data table notebook</a>'\n",
              "          + ' to learn more about interactive tables.';\n",
              "        element.innerHTML = '';\n",
              "        dataTable['output_type'] = 'display_data';\n",
              "        await google.colab.output.renderOutput(dataTable, element);\n",
              "        const docLink = document.createElement('div');\n",
              "        docLink.innerHTML = docLinkHtml;\n",
              "        element.appendChild(docLink);\n",
              "      }\n",
              "    </script>\n",
              "  </div>\n",
              "\n",
              "\n",
              "    <div id=\"df-6537f5e2-ffa5-45cc-837b-e36b7c8d2077\">\n",
              "      <button class=\"colab-df-quickchart\" onclick=\"quickchart('df-6537f5e2-ffa5-45cc-837b-e36b7c8d2077')\"\n",
              "                title=\"Suggest charts\"\n",
              "                style=\"display:none;\">\n",
              "\n",
              "<svg xmlns=\"http://www.w3.org/2000/svg\" height=\"24px\"viewBox=\"0 0 24 24\"\n",
              "     width=\"24px\">\n",
              "    <g>\n",
              "        <path d=\"M19 3H5c-1.1 0-2 .9-2 2v14c0 1.1.9 2 2 2h14c1.1 0 2-.9 2-2V5c0-1.1-.9-2-2-2zM9 17H7v-7h2v7zm4 0h-2V7h2v10zm4 0h-2v-4h2v4z\"/>\n",
              "    </g>\n",
              "</svg>\n",
              "      </button>\n",
              "\n",
              "<style>\n",
              "  .colab-df-quickchart {\n",
              "      --bg-color: #E8F0FE;\n",
              "      --fill-color: #1967D2;\n",
              "      --hover-bg-color: #E2EBFA;\n",
              "      --hover-fill-color: #174EA6;\n",
              "      --disabled-fill-color: #AAA;\n",
              "      --disabled-bg-color: #DDD;\n",
              "  }\n",
              "\n",
              "  [theme=dark] .colab-df-quickchart {\n",
              "      --bg-color: #3B4455;\n",
              "      --fill-color: #D2E3FC;\n",
              "      --hover-bg-color: #434B5C;\n",
              "      --hover-fill-color: #FFFFFF;\n",
              "      --disabled-bg-color: #3B4455;\n",
              "      --disabled-fill-color: #666;\n",
              "  }\n",
              "\n",
              "  .colab-df-quickchart {\n",
              "    background-color: var(--bg-color);\n",
              "    border: none;\n",
              "    border-radius: 50%;\n",
              "    cursor: pointer;\n",
              "    display: none;\n",
              "    fill: var(--fill-color);\n",
              "    height: 32px;\n",
              "    padding: 0;\n",
              "    width: 32px;\n",
              "  }\n",
              "\n",
              "  .colab-df-quickchart:hover {\n",
              "    background-color: var(--hover-bg-color);\n",
              "    box-shadow: 0 1px 2px rgba(60, 64, 67, 0.3), 0 1px 3px 1px rgba(60, 64, 67, 0.15);\n",
              "    fill: var(--button-hover-fill-color);\n",
              "  }\n",
              "\n",
              "  .colab-df-quickchart-complete:disabled,\n",
              "  .colab-df-quickchart-complete:disabled:hover {\n",
              "    background-color: var(--disabled-bg-color);\n",
              "    fill: var(--disabled-fill-color);\n",
              "    box-shadow: none;\n",
              "  }\n",
              "\n",
              "  .colab-df-spinner {\n",
              "    border: 2px solid var(--fill-color);\n",
              "    border-color: transparent;\n",
              "    border-bottom-color: var(--fill-color);\n",
              "    animation:\n",
              "      spin 1s steps(1) infinite;\n",
              "  }\n",
              "\n",
              "  @keyframes spin {\n",
              "    0% {\n",
              "      border-color: transparent;\n",
              "      border-bottom-color: var(--fill-color);\n",
              "      border-left-color: var(--fill-color);\n",
              "    }\n",
              "    20% {\n",
              "      border-color: transparent;\n",
              "      border-left-color: var(--fill-color);\n",
              "      border-top-color: var(--fill-color);\n",
              "    }\n",
              "    30% {\n",
              "      border-color: transparent;\n",
              "      border-left-color: var(--fill-color);\n",
              "      border-top-color: var(--fill-color);\n",
              "      border-right-color: var(--fill-color);\n",
              "    }\n",
              "    40% {\n",
              "      border-color: transparent;\n",
              "      border-right-color: var(--fill-color);\n",
              "      border-top-color: var(--fill-color);\n",
              "    }\n",
              "    60% {\n",
              "      border-color: transparent;\n",
              "      border-right-color: var(--fill-color);\n",
              "    }\n",
              "    80% {\n",
              "      border-color: transparent;\n",
              "      border-right-color: var(--fill-color);\n",
              "      border-bottom-color: var(--fill-color);\n",
              "    }\n",
              "    90% {\n",
              "      border-color: transparent;\n",
              "      border-bottom-color: var(--fill-color);\n",
              "    }\n",
              "  }\n",
              "</style>\n",
              "\n",
              "      <script>\n",
              "        async function quickchart(key) {\n",
              "          const quickchartButtonEl =\n",
              "            document.querySelector('#' + key + ' button');\n",
              "          quickchartButtonEl.disabled = true;  // To prevent multiple clicks.\n",
              "          quickchartButtonEl.classList.add('colab-df-spinner');\n",
              "          try {\n",
              "            const charts = await google.colab.kernel.invokeFunction(\n",
              "                'suggestCharts', [key], {});\n",
              "          } catch (error) {\n",
              "            console.error('Error during call to suggestCharts:', error);\n",
              "          }\n",
              "          quickchartButtonEl.classList.remove('colab-df-spinner');\n",
              "          quickchartButtonEl.classList.add('colab-df-quickchart-complete');\n",
              "        }\n",
              "        (() => {\n",
              "          let quickchartButtonEl =\n",
              "            document.querySelector('#df-6537f5e2-ffa5-45cc-837b-e36b7c8d2077 button');\n",
              "          quickchartButtonEl.style.display =\n",
              "            google.colab.kernel.accessAllowed ? 'block' : 'none';\n",
              "        })();\n",
              "      </script>\n",
              "    </div>\n",
              "\n",
              "    </div>\n",
              "  </div>\n"
            ],
            "application/vnd.google.colaboratory.intrinsic+json": {
              "type": "dataframe",
              "variable_name": "df"
            }
          },
          "metadata": {},
          "execution_count": 79
        }
      ],
      "execution_count": 79
    },
    {
      "cell_type": "code",
      "source": [
        "df.info()"
      ],
      "metadata": {
        "trusted": true,
        "execution": {
          "iopub.status.busy": "2025-07-11T01:51:24.402065Z",
          "iopub.execute_input": "2025-07-11T01:51:24.402604Z",
          "iopub.status.idle": "2025-07-11T01:51:24.454971Z",
          "shell.execute_reply.started": "2025-07-11T01:51:24.402561Z",
          "shell.execute_reply": "2025-07-11T01:51:24.452158Z"
        },
        "colab": {
          "base_uri": "https://localhost:8080/"
        },
        "id": "CXNZAyyXN_oE",
        "outputId": "5c583301-0856-487e-e687-7ab2cfbe3b33"
      },
      "outputs": [
        {
          "output_type": "stream",
          "name": "stdout",
          "text": [
            "<class 'pandas.core.frame.DataFrame'>\n",
            "RangeIndex: 7043 entries, 0 to 7042\n",
            "Data columns (total 21 columns):\n",
            " #   Column            Non-Null Count  Dtype  \n",
            "---  ------            --------------  -----  \n",
            " 0   customerID        7043 non-null   object \n",
            " 1   gender            7043 non-null   object \n",
            " 2   SeniorCitizen     7043 non-null   int64  \n",
            " 3   Partner           7043 non-null   object \n",
            " 4   Dependents        7043 non-null   object \n",
            " 5   tenure            7043 non-null   int64  \n",
            " 6   PhoneService      7043 non-null   object \n",
            " 7   MultipleLines     7043 non-null   object \n",
            " 8   InternetService   7043 non-null   object \n",
            " 9   OnlineSecurity    7043 non-null   object \n",
            " 10  OnlineBackup      7043 non-null   object \n",
            " 11  DeviceProtection  7043 non-null   object \n",
            " 12  TechSupport       7043 non-null   object \n",
            " 13  StreamingTV       7043 non-null   object \n",
            " 14  StreamingMovies   7043 non-null   object \n",
            " 15  Contract          7043 non-null   object \n",
            " 16  PaperlessBilling  7043 non-null   object \n",
            " 17  PaymentMethod     7043 non-null   object \n",
            " 18  MonthlyCharges    7043 non-null   float64\n",
            " 19  TotalCharges      7043 non-null   object \n",
            " 20  Churn             7043 non-null   object \n",
            "dtypes: float64(1), int64(2), object(18)\n",
            "memory usage: 1.1+ MB\n"
          ]
        }
      ],
      "execution_count": 80
    },
    {
      "cell_type": "code",
      "source": [
        "df['Churn'].value_counts()"
      ],
      "metadata": {
        "trusted": true,
        "execution": {
          "iopub.status.busy": "2025-07-11T01:51:24.458492Z",
          "iopub.execute_input": "2025-07-11T01:51:24.458827Z",
          "iopub.status.idle": "2025-07-11T01:51:24.474429Z",
          "shell.execute_reply.started": "2025-07-11T01:51:24.458803Z",
          "shell.execute_reply": "2025-07-11T01:51:24.472951Z"
        },
        "colab": {
          "base_uri": "https://localhost:8080/",
          "height": 178
        },
        "id": "QHAsQpKuN_oF",
        "outputId": "046ec81d-676e-41f3-9d5a-05de609d719c"
      },
      "outputs": [
        {
          "output_type": "execute_result",
          "data": {
            "text/plain": [
              "Churn\n",
              "No     5174\n",
              "Yes    1869\n",
              "Name: count, dtype: int64"
            ],
            "text/html": [
              "<div>\n",
              "<style scoped>\n",
              "    .dataframe tbody tr th:only-of-type {\n",
              "        vertical-align: middle;\n",
              "    }\n",
              "\n",
              "    .dataframe tbody tr th {\n",
              "        vertical-align: top;\n",
              "    }\n",
              "\n",
              "    .dataframe thead th {\n",
              "        text-align: right;\n",
              "    }\n",
              "</style>\n",
              "<table border=\"1\" class=\"dataframe\">\n",
              "  <thead>\n",
              "    <tr style=\"text-align: right;\">\n",
              "      <th></th>\n",
              "      <th>count</th>\n",
              "    </tr>\n",
              "    <tr>\n",
              "      <th>Churn</th>\n",
              "      <th></th>\n",
              "    </tr>\n",
              "  </thead>\n",
              "  <tbody>\n",
              "    <tr>\n",
              "      <th>No</th>\n",
              "      <td>5174</td>\n",
              "    </tr>\n",
              "    <tr>\n",
              "      <th>Yes</th>\n",
              "      <td>1869</td>\n",
              "    </tr>\n",
              "  </tbody>\n",
              "</table>\n",
              "</div><br><label><b>dtype:</b> int64</label>"
            ]
          },
          "metadata": {},
          "execution_count": 81
        }
      ],
      "execution_count": 81
    },
    {
      "cell_type": "markdown",
      "source": [
        "# **Data Cleaning & Type Conversion**"
      ],
      "metadata": {
        "id": "Y5wPFUT-N_oG"
      }
    },
    {
      "cell_type": "code",
      "source": [
        "# Convert TotalCharges to numeric\n",
        "df['TotalCharges'] = pd.to_numeric(df['TotalCharges'], errors='coerce')"
      ],
      "metadata": {
        "trusted": true,
        "execution": {
          "iopub.status.busy": "2025-07-11T01:51:24.475383Z",
          "iopub.execute_input": "2025-07-11T01:51:24.475784Z",
          "iopub.status.idle": "2025-07-11T01:51:24.526498Z",
          "shell.execute_reply.started": "2025-07-11T01:51:24.47575Z",
          "shell.execute_reply": "2025-07-11T01:51:24.525193Z"
        },
        "id": "fTkSKollN_oH"
      },
      "outputs": [],
      "execution_count": 82
    },
    {
      "cell_type": "code",
      "source": [
        "df['SeniorCitizen'] = df['SeniorCitizen'].astype(str)"
      ],
      "metadata": {
        "trusted": true,
        "execution": {
          "iopub.status.busy": "2025-07-11T01:51:24.528412Z",
          "iopub.execute_input": "2025-07-11T01:51:24.528692Z",
          "iopub.status.idle": "2025-07-11T01:51:24.566335Z",
          "shell.execute_reply.started": "2025-07-11T01:51:24.528672Z",
          "shell.execute_reply": "2025-07-11T01:51:24.564765Z"
        },
        "id": "J1yFf9CMN_oI"
      },
      "outputs": [],
      "execution_count": 83
    },
    {
      "cell_type": "code",
      "source": [
        "# Check missing values\n",
        "print(df.isnull().sum())"
      ],
      "metadata": {
        "trusted": true,
        "execution": {
          "iopub.status.busy": "2025-07-11T01:51:24.570888Z",
          "iopub.execute_input": "2025-07-11T01:51:24.571253Z",
          "iopub.status.idle": "2025-07-11T01:51:24.615449Z",
          "shell.execute_reply.started": "2025-07-11T01:51:24.571229Z",
          "shell.execute_reply": "2025-07-11T01:51:24.61321Z"
        },
        "colab": {
          "base_uri": "https://localhost:8080/"
        },
        "id": "62aZFzIPN_oJ",
        "outputId": "7e05e180-6c7a-41db-841b-e931b874c7e6"
      },
      "outputs": [
        {
          "output_type": "stream",
          "name": "stdout",
          "text": [
            "customerID           0\n",
            "gender               0\n",
            "SeniorCitizen        0\n",
            "Partner              0\n",
            "Dependents           0\n",
            "tenure               0\n",
            "PhoneService         0\n",
            "MultipleLines        0\n",
            "InternetService      0\n",
            "OnlineSecurity       0\n",
            "OnlineBackup         0\n",
            "DeviceProtection     0\n",
            "TechSupport          0\n",
            "StreamingTV          0\n",
            "StreamingMovies      0\n",
            "Contract             0\n",
            "PaperlessBilling     0\n",
            "PaymentMethod        0\n",
            "MonthlyCharges       0\n",
            "TotalCharges        11\n",
            "Churn                0\n",
            "dtype: int64\n"
          ]
        }
      ],
      "execution_count": 84
    },
    {
      "cell_type": "code",
      "source": [
        "# Drop rows with missing TotalCharges\n",
        "df = df.dropna(subset=['TotalCharges'])"
      ],
      "metadata": {
        "trusted": true,
        "execution": {
          "iopub.status.busy": "2025-07-11T01:51:24.616788Z",
          "iopub.execute_input": "2025-07-11T01:51:24.617179Z",
          "iopub.status.idle": "2025-07-11T01:51:24.660711Z",
          "shell.execute_reply.started": "2025-07-11T01:51:24.617146Z",
          "shell.execute_reply": "2025-07-11T01:51:24.659394Z"
        },
        "id": "11GhEA5rN_oJ"
      },
      "outputs": [],
      "execution_count": 85
    },
    {
      "cell_type": "markdown",
      "source": [
        "# **Feature Classification: Numerical vs Categorical**"
      ],
      "metadata": {
        "id": "RYn_KgVXN_oK"
      }
    },
    {
      "cell_type": "code",
      "source": [
        "# Exclude target and ID\n",
        "df_features = df.drop(['customerID', 'Churn'], axis=1)\n",
        "\n",
        "# Separate numerical and categorical features\n",
        "numerical_features = df_features.select_dtypes(include=['int64', 'float64']).columns.tolist()\n",
        "categorical_features = df_features.select_dtypes(include=['object']).columns.tolist()\n"
      ],
      "metadata": {
        "trusted": true,
        "execution": {
          "iopub.status.busy": "2025-07-11T01:51:24.662457Z",
          "iopub.execute_input": "2025-07-11T01:51:24.663009Z",
          "iopub.status.idle": "2025-07-11T01:51:24.702335Z",
          "shell.execute_reply.started": "2025-07-11T01:51:24.662972Z",
          "shell.execute_reply": "2025-07-11T01:51:24.700423Z"
        },
        "id": "lgv4N450N_oK"
      },
      "outputs": [],
      "execution_count": 86
    },
    {
      "cell_type": "code",
      "source": [
        "print(\"Numerical Features:\", numerical_features)\n",
        "print(\"Categorical Features:\", categorical_features)"
      ],
      "metadata": {
        "trusted": true,
        "execution": {
          "iopub.status.busy": "2025-07-11T01:51:24.70401Z",
          "iopub.execute_input": "2025-07-11T01:51:24.704479Z",
          "iopub.status.idle": "2025-07-11T01:51:24.736262Z",
          "shell.execute_reply.started": "2025-07-11T01:51:24.704441Z",
          "shell.execute_reply": "2025-07-11T01:51:24.734799Z"
        },
        "colab": {
          "base_uri": "https://localhost:8080/"
        },
        "id": "sRfEz_HjN_oL",
        "outputId": "961286e9-f319-4a72-ea4b-6b44bba65d94"
      },
      "outputs": [
        {
          "output_type": "stream",
          "name": "stdout",
          "text": [
            "Numerical Features: ['tenure', 'MonthlyCharges', 'TotalCharges']\n",
            "Categorical Features: ['gender', 'SeniorCitizen', 'Partner', 'Dependents', 'PhoneService', 'MultipleLines', 'InternetService', 'OnlineSecurity', 'OnlineBackup', 'DeviceProtection', 'TechSupport', 'StreamingTV', 'StreamingMovies', 'Contract', 'PaperlessBilling', 'PaymentMethod']\n"
          ]
        }
      ],
      "execution_count": 87
    },
    {
      "cell_type": "markdown",
      "source": [
        "# **Outlier Analysis and Handling**"
      ],
      "metadata": {
        "id": "mYmn5ko5N_oL"
      }
    },
    {
      "cell_type": "code",
      "source": [
        "# Plot boxplots for outlier detection\n",
        "plt.figure(figsize=(15, 8))\n",
        "for i, col in enumerate(numerical_features):\n",
        "    plt.subplot(2, int(len(numerical_features)/2)+1, i+1)\n",
        "    sns.boxplot(x=df[col])\n",
        "    plt.title(col)\n",
        "plt.tight_layout()\n",
        "plt.show()"
      ],
      "metadata": {
        "trusted": true,
        "execution": {
          "iopub.status.busy": "2025-07-11T01:51:24.737374Z",
          "iopub.execute_input": "2025-07-11T01:51:24.737682Z",
          "iopub.status.idle": "2025-07-11T01:51:25.488102Z",
          "shell.execute_reply.started": "2025-07-11T01:51:24.737659Z",
          "shell.execute_reply": "2025-07-11T01:51:25.486557Z"
        },
        "colab": {
          "base_uri": "https://localhost:8080/",
          "height": 516
        },
        "id": "oXQHMpUpN_oM",
        "outputId": "c1f4eef1-d7d8-4c04-859e-0ccffdcdc848"
      },
      "outputs": [
        {
          "output_type": "display_data",
          "data": {
            "text/plain": [
              "<Figure size 1500x800 with 3 Axes>"
            ],
            "image/png": "[encoded data removed]"
          },
          "metadata": {}
        }
      ],
      "execution_count": 88
    },
    {
      "cell_type": "code",
      "source": [
        "# Outlier Handling - Winsorizing Method\n",
        "def handle_outliers_winsorizing(df, columns, lower_percentile=0.05, upper_percentile=0.95):\n",
        "    df_cleaned = df.copy()\n",
        "\n",
        "    for col in columns:\n",
        "        lower_limit = df[col].quantile(lower_percentile)\n",
        "        upper_limit = df[col].quantile(upper_percentile)\n",
        "\n",
        "        df_cleaned[col] = np.where(df_cleaned[col] < lower_limit, lower_limit, df_cleaned[col])\n",
        "        df_cleaned[col] = np.where(df_cleaned[col] > upper_limit, upper_limit, df_cleaned[col])\n",
        "\n",
        "        print(f\"{col}:\")\n",
        "        print(f\"  Lower limit (5th percentile): {lower_limit:.2f}\")\n",
        "        print(f\"  Upper limit (95th percentile): {upper_limit:.2f}\")\n",
        "        print(f\"  Values capped: {((df[col] < lower_limit) | (df[col] > upper_limit)).sum()}\")\n",
        "        print()\n",
        "\n",
        "    return df_cleaned\n",
        "\n",
        "\n",
        "numerical_features = ['tenure', 'MonthlyCharges', 'TotalCharges']\n",
        "df_cleaned = handle_outliers_winsorizing(df, numerical_features)\n",
        "\n",
        "# Before After\n",
        "fig, axes = plt.subplots(2, 3, figsize=(15, 10))\n",
        "\n",
        "for i, col in enumerate(numerical_features):\n",
        "    # Before\n",
        "    axes[0, i].boxplot(df[col])\n",
        "    axes[0, i].set_title(f'{col} - Before')\n",
        "\n",
        "    # After\n",
        "    axes[1, i].boxplot(df_cleaned[col])\n",
        "    axes[1, i].set_title(f'{col} - After Winsorizing')\n",
        "\n",
        "plt.tight_layout()\n",
        "plt.show()\n",
        "\n",
        "# Use cleaned version\n",
        "df = df_cleaned.copy()"
      ],
      "metadata": {
        "trusted": true,
        "execution": {
          "iopub.status.busy": "2025-07-11T01:51:25.489219Z",
          "iopub.execute_input": "2025-07-11T01:51:25.489534Z",
          "iopub.status.idle": "2025-07-11T01:51:27.036298Z",
          "shell.execute_reply.started": "2025-07-11T01:51:25.48951Z",
          "shell.execute_reply": "2025-07-11T01:51:27.033134Z"
        },
        "colab": {
          "base_uri": "https://localhost:8080/",
          "height": 902
        },
        "id": "PAOqzP1QN_oM",
        "outputId": "d1b1cbd4-17be-4f79-855c-d123f91fbd1c"
      },
      "outputs": [
        {
          "output_type": "stream",
          "name": "stdout",
          "text": [
            "tenure:\n",
            "  Lower limit (5th percentile): 1.00\n",
            "  Upper limit (95th percentile): 72.00\n",
            "  Values capped: 0\n",
            "\n",
            "MonthlyCharges:\n",
            "  Lower limit (5th percentile): 19.65\n",
            "  Upper limit (95th percentile): 107.42\n",
            "  Values capped: 669\n",
            "\n",
            "TotalCharges:\n",
            "  Lower limit (5th percentile): 49.60\n",
            "  Upper limit (95th percentile): 6923.59\n",
            "  Values capped: 704\n",
            "\n"
          ]
        },
        {
          "output_type": "display_data",
          "data": {
            "text/plain": [
              "<Figure size 1500x1000 with 6 Axes>"
            ],
            "image/png": "[encoded data removed]"
          },
          "metadata": {}
        }
      ],
      "execution_count": 89
    },
    {
      "cell_type": "markdown",
      "source": [
        "# **Data Preprocessing: Encoding & Transformation**"
      ],
      "metadata": {
        "id": "8y9yo588N_oN"
      }
    },
    {
      "cell_type": "code",
      "source": [
        "df['Churn'] = df['Churn'].map({'No': 0, 'Yes': 1})"
      ],
      "metadata": {
        "trusted": true,
        "execution": {
          "iopub.status.busy": "2025-07-11T01:51:27.037865Z",
          "iopub.execute_input": "2025-07-11T01:51:27.038255Z",
          "iopub.status.idle": "2025-07-11T01:51:27.047552Z",
          "shell.execute_reply.started": "2025-07-11T01:51:27.038225Z",
          "shell.execute_reply": "2025-07-11T01:51:27.04648Z"
        },
        "id": "YN3xgLsON_oO"
      },
      "outputs": [],
      "execution_count": 90
    },
    {
      "cell_type": "code",
      "source": [
        "binary_cols = ['gender', 'Partner', 'Dependents', 'PhoneService', 'PaperlessBilling', 'SeniorCitizen']\n",
        "\n",
        "for col in binary_cols:\n",
        "    df[col] = df[col].map({'Yes': 1, 'No': 0, 'Male': 1, 'Female': 0, '1': 1, '0': 0})\n"
      ],
      "metadata": {
        "trusted": true,
        "execution": {
          "iopub.status.busy": "2025-07-11T01:51:27.049102Z",
          "iopub.execute_input": "2025-07-11T01:51:27.049453Z",
          "iopub.status.idle": "2025-07-11T01:51:27.083661Z",
          "shell.execute_reply.started": "2025-07-11T01:51:27.049424Z",
          "shell.execute_reply": "2025-07-11T01:51:27.082372Z"
        },
        "id": "Wjk3tPDZN_oO"
      },
      "outputs": [],
      "execution_count": 91
    },
    {
      "cell_type": "code",
      "source": [
        "# Drop customerID to avoid keeping it in the model\n",
        "df = df.drop('customerID', axis=1)\n",
        "\n",
        "# One-Hot Encoding (automatically drops first to avoid multicollinearity)\n",
        "df = pd.get_dummies(df, columns=[col for col in categorical_features if col not in binary_cols], drop_first=True)"
      ],
      "metadata": {
        "trusted": true,
        "execution": {
          "iopub.status.busy": "2025-07-11T01:51:27.085308Z",
          "iopub.execute_input": "2025-07-11T01:51:27.085567Z",
          "iopub.status.idle": "2025-07-11T01:51:27.125005Z",
          "shell.execute_reply.started": "2025-07-11T01:51:27.085545Z",
          "shell.execute_reply": "2025-07-11T01:51:27.123856Z"
        },
        "id": "Po51qcawN_oP"
      },
      "outputs": [],
      "execution_count": 92
    },
    {
      "cell_type": "code",
      "source": [
        "#Check the results\n",
        "df.head()"
      ],
      "metadata": {
        "trusted": true,
        "execution": {
          "iopub.status.busy": "2025-07-11T01:51:27.12603Z",
          "iopub.execute_input": "2025-07-11T01:51:27.126364Z",
          "iopub.status.idle": "2025-07-11T01:51:27.151119Z",
          "shell.execute_reply.started": "2025-07-11T01:51:27.126337Z",
          "shell.execute_reply": "2025-07-11T01:51:27.150204Z"
        },
        "colab": {
          "base_uri": "https://localhost:8080/",
          "height": 290
        },
        "id": "wCiNf8OAN_oP",
        "outputId": "2767af2a-cf6c-409c-defe-83dc0d82b88f"
      },
      "outputs": [
        {
          "output_type": "execute_result",
          "data": {
            "text/plain": [
              "   gender  SeniorCitizen  Partner  Dependents  tenure  PhoneService  \\\n",
              "0       0              0        1           0     1.0             0   \n",
              "1       1              0        0           0    34.0             1   \n",
              "2       1              0        0           0     2.0             1   \n",
              "3       1              0        0           0    45.0             0   \n",
              "4       0              0        0           0     2.0             1   \n",
              "\n",
              "   PaperlessBilling  MonthlyCharges  TotalCharges  Churn  ...  \\\n",
              "0                 1           29.85        49.605      0  ...   \n",
              "1                 0           56.95      1889.500      0  ...   \n",
              "2                 1           53.85       108.150      1  ...   \n",
              "3                 0           42.30      1840.750      0  ...   \n",
              "4                 1           70.70       151.650      1  ...   \n",
              "\n",
              "   TechSupport_Yes  StreamingTV_No internet service  StreamingTV_Yes  \\\n",
              "0            False                            False            False   \n",
              "1            False                            False            False   \n",
              "2            False                            False            False   \n",
              "3             True                            False            False   \n",
              "4            False                            False            False   \n",
              "\n",
              "   StreamingMovies_No internet service  StreamingMovies_Yes  \\\n",
              "0                                False                False   \n",
              "1                                False                False   \n",
              "2                                False                False   \n",
              "3                                False                False   \n",
              "4                                False                False   \n",
              "\n",
              "   Contract_One year  Contract_Two year  \\\n",
              "0              False              False   \n",
              "1               True              False   \n",
              "2              False              False   \n",
              "3               True              False   \n",
              "4              False              False   \n",
              "\n",
              "   PaymentMethod_Credit card (automatic)  PaymentMethod_Electronic check  \\\n",
              "0                                  False                            True   \n",
              "1                                  False                           False   \n",
              "2                                  False                           False   \n",
              "3                                  False                           False   \n",
              "4                                  False                            True   \n",
              "\n",
              "   PaymentMethod_Mailed check  \n",
              "0                       False  \n",
              "1                        True  \n",
              "2                        True  \n",
              "3                       False  \n",
              "4                       False  \n",
              "\n",
              "[5 rows x 31 columns]"
            ],
            "text/html": [
              "\n",
              "  <div id=\"df-5221f8bc-aef7-47da-be1d-73d0ef3ff87c\" class=\"colab-df-container\">\n",
              "    <div>\n",
              "<style scoped>\n",
              "    .dataframe tbody tr th:only-of-type {\n",
              "        vertical-align: middle;\n",
              "    }\n",
              "\n",
              "    .dataframe tbody tr th {\n",
              "        vertical-align: top;\n",
              "    }\n",
              "\n",
              "    .dataframe thead th {\n",
              "        text-align: right;\n",
              "    }\n",
              "</style>\n",
              "<table border=\"1\" class=\"dataframe\">\n",
              "  <thead>\n",
              "    <tr style=\"text-align: right;\">\n",
              "      <th></th>\n",
              "      <th>gender</th>\n",
              "      <th>SeniorCitizen</th>\n",
              "      <th>Partner</th>\n",
              "      <th>Dependents</th>\n",
              "      <th>tenure</th>\n",
              "      <th>PhoneService</th>\n",
              "      <th>PaperlessBilling</th>\n",
              "      <th>MonthlyCharges</th>\n",
              "      <th>TotalCharges</th>\n",
              "      <th>Churn</th>\n",
              "      <th>...</th>\n",
              "      <th>TechSupport_Yes</th>\n",
              "      <th>StreamingTV_No internet service</th>\n",
              "      <th>StreamingTV_Yes</th>\n",
              "      <th>StreamingMovies_No internet service</th>\n",
              "      <th>StreamingMovies_Yes</th>\n",
              "      <th>Contract_One year</th>\n",
              "      <th>Contract_Two year</th>\n",
              "      <th>PaymentMethod_Credit card (automatic)</th>\n",
              "      <th>PaymentMethod_Electronic check</th>\n",
              "      <th>PaymentMethod_Mailed check</th>\n",
              "    </tr>\n",
              "  </thead>\n",
              "  <tbody>\n",
              "    <tr>\n",
              "      <th>0</th>\n",
              "      <td>0</td>\n",
              "      <td>0</td>\n",
              "      <td>1</td>\n",
              "      <td>0</td>\n",
              "      <td>1.0</td>\n",
              "      <td>0</td>\n",
              "      <td>1</td>\n",
              "      <td>29.85</td>\n",
              "      <td>49.605</td>\n",
              "      <td>0</td>\n",
              "      <td>...</td>\n",
              "      <td>False</td>\n",
              "      <td>False</td>\n",
              "      <td>False</td>\n",
              "      <td>False</td>\n",
              "      <td>False</td>\n",
              "      <td>False</td>\n",
              "      <td>False</td>\n",
              "      <td>False</td>\n",
              "      <td>True</td>\n",
              "      <td>False</td>\n",
              "    </tr>\n",
              "    <tr>\n",
              "      <th>1</th>\n",
              "      <td>1</td>\n",
              "      <td>0</td>\n",
              "      <td>0</td>\n",
              "      <td>0</td>\n",
              "      <td>34.0</td>\n",
              "      <td>1</td>\n",
              "      <td>0</td>\n",
              "      <td>56.95</td>\n",
              "      <td>1889.500</td>\n",
              "      <td>0</td>\n",
              "      <td>...</td>\n",
              "      <td>False</td>\n",
              "      <td>False</td>\n",
              "      <td>False</td>\n",
              "      <td>False</td>\n",
              "      <td>False</td>\n",
              "      <td>True</td>\n",
              "      <td>False</td>\n",
              "      <td>False</td>\n",
              "      <td>False</td>\n",
              "      <td>True</td>\n",
              "    </tr>\n",
              "    <tr>\n",
              "      <th>2</th>\n",
              "      <td>1</td>\n",
              "      <td>0</td>\n",
              "      <td>0</td>\n",
              "      <td>0</td>\n",
              "      <td>2.0</td>\n",
              "      <td>1</td>\n",
              "      <td>1</td>\n",
              "      <td>53.85</td>\n",
              "      <td>108.150</td>\n",
              "      <td>1</td>\n",
              "      <td>...</td>\n",
              "      <td>False</td>\n",
              "      <td>False</td>\n",
              "      <td>False</td>\n",
              "      <td>False</td>\n",
              "      <td>False</td>\n",
              "      <td>False</td>\n",
              "      <td>False</td>\n",
              "      <td>False</td>\n",
              "      <td>False</td>\n",
              "      <td>True</td>\n",
              "    </tr>\n",
              "    <tr>\n",
              "      <th>3</th>\n",
              "      <td>1</td>\n",
              "      <td>0</td>\n",
              "      <td>0</td>\n",
              "      <td>0</td>\n",
              "      <td>45.0</td>\n",
              "      <td>0</td>\n",
              "      <td>0</td>\n",
              "      <td>42.30</td>\n",
              "      <td>1840.750</td>\n",
              "      <td>0</td>\n",
              "      <td>...</td>\n",
              "      <td>True</td>\n",
              "      <td>False</td>\n",
              "      <td>False</td>\n",
              "      <td>False</td>\n",
              "      <td>False</td>\n",
              "      <td>True</td>\n",
              "      <td>False</td>\n",
              "      <td>False</td>\n",
              "      <td>False</td>\n",
              "      <td>False</td>\n",
              "    </tr>\n",
              "    <tr>\n",
              "      <th>4</th>\n",
              "      <td>0</td>\n",
              "      <td>0</td>\n",
              "      <td>0</td>\n",
              "      <td>0</td>\n",
              "      <td>2.0</td>\n",
              "      <td>1</td>\n",
              "      <td>1</td>\n",
              "      <td>70.70</td>\n",
              "      <td>151.650</td>\n",
              "      <td>1</td>\n",
              "      <td>...</td>\n",
              "      <td>False</td>\n",
              "      <td>False</td>\n",
              "      <td>False</td>\n",
              "      <td>False</td>\n",
              "      <td>False</td>\n",
              "      <td>False</td>\n",
              "      <td>False</td>\n",
              "      <td>False</td>\n",
              "      <td>True</td>\n",
              "      <td>False</td>\n",
              "    </tr>\n",
              "  </tbody>\n",
              "</table>\n",
              "<p>5 rows × 31 columns</p>\n",
              "</div>\n",
              "    <div class=\"colab-df-buttons\">\n",
              "\n",
              "  <div class=\"colab-df-container\">\n",
              "    <button class=\"colab-df-convert\" onclick=\"convertToInteractive('df-5221f8bc-aef7-47da-be1d-73d0ef3ff87c')\"\n",
              "            title=\"Convert this dataframe to an interactive table.\"\n",
              "            style=\"display:none;\">\n",
              "\n",
              "  <svg xmlns=\"http://www.w3.org/2000/svg\" height=\"24px\" viewBox=\"0 -960 960 960\">\n",
              "    <path d=\"M120-120v-720h720v720H120Zm60-500h600v-160H180v160Zm220 220h160v-160H400v160Zm0 220h160v-160H400v160ZM180-400h160v-160H180v160Zm440 0h160v-160H620v160ZM180-180h160v-160H180v160Zm440 0h160v-160H620v160Z\"/>\n",
              "  </svg>\n",
              "    </button>\n",
              "\n",
              "  <style>\n",
              "    .colab-df-container {\n",
              "      display:flex;\n",
              "      gap: 12px;\n",
              "    }\n",
              "\n",
              "    .colab-df-convert {\n",
              "      background-color: #E8F0FE;\n",
              "      border: none;\n",
              "      border-radius: 50%;\n",
              "      cursor: pointer;\n",
              "      display: none;\n",
              "      fill: #1967D2;\n",
              "      height: 32px;\n",
              "      padding: 0 0 0 0;\n",
              "      width: 32px;\n",
              "    }\n",
              "\n",
              "    .colab-df-convert:hover {\n",
              "      background-color: #E2EBFA;\n",
              "      box-shadow: 0px 1px 2px rgba(60, 64, 67, 0.3), 0px 1px 3px 1px rgba(60, 64, 67, 0.15);\n",
              "      fill: #174EA6;\n",
              "    }\n",
              "\n",
              "    .colab-df-buttons div {\n",
              "      margin-bottom: 4px;\n",
              "    }\n",
              "\n",
              "    [theme=dark] .colab-df-convert {\n",
              "      background-color: #3B4455;\n",
              "      fill: #D2E3FC;\n",
              "    }\n",
              "\n",
              "    [theme=dark] .colab-df-convert:hover {\n",
              "      background-color: #434B5C;\n",
              "      box-shadow: 0px 1px 3px 1px rgba(0, 0, 0, 0.15);\n",
              "      filter: drop-shadow(0px 1px 2px rgba(0, 0, 0, 0.3));\n",
              "      fill: #FFFFFF;\n",
              "    }\n",
              "  </style>\n",
              "\n",
              "    <script>\n",
              "      const buttonEl =\n",
              "        document.querySelector('#df-5221f8bc-aef7-47da-be1d-73d0ef3ff87c button.colab-df-convert');\n",
              "      buttonEl.style.display =\n",
              "        google.colab.kernel.accessAllowed ? 'block' : 'none';\n",
              "\n",
              "      async function convertToInteractive(key) {\n",
              "        const element = document.querySelector('#df-5221f8bc-aef7-47da-be1d-73d0ef3ff87c');\n",
              "        const dataTable =\n",
              "          await google.colab.kernel.invokeFunction('convertToInteractive',\n",
              "                                                    [key], {});\n",
              "        if (!dataTable) return;\n",
              "\n",
              "        const docLinkHtml = 'Like what you see? Visit the ' +\n",
              "          '<a target=\"_blank\" href=https://colab.research.google.com/notebooks/data_table.ipynb>data table notebook</a>'\n",
              "          + ' to learn more about interactive tables.';\n",
              "        element.innerHTML = '';\n",
              "        dataTable['output_type'] = 'display_data';\n",
              "        await google.colab.output.renderOutput(dataTable, element);\n",
              "        const docLink = document.createElement('div');\n",
              "        docLink.innerHTML = docLinkHtml;\n",
              "        element.appendChild(docLink);\n",
              "      }\n",
              "    </script>\n",
              "  </div>\n",
              "\n",
              "\n",
              "    <div id=\"df-761630c5-7fec-44fd-b09d-19579ac66ba2\">\n",
              "      <button class=\"colab-df-quickchart\" onclick=\"quickchart('df-761630c5-7fec-44fd-b09d-19579ac66ba2')\"\n",
              "                title=\"Suggest charts\"\n",
              "                style=\"display:none;\">\n",
              "\n",
              "<svg xmlns=\"http://www.w3.org/2000/svg\" height=\"24px\"viewBox=\"0 0 24 24\"\n",
              "     width=\"24px\">\n",
              "    <g>\n",
              "        <path d=\"M19 3H5c-1.1 0-2 .9-2 2v14c0 1.1.9 2 2 2h14c1.1 0 2-.9 2-2V5c0-1.1-.9-2-2-2zM9 17H7v-7h2v7zm4 0h-2V7h2v10zm4 0h-2v-4h2v4z\"/>\n",
              "    </g>\n",
              "</svg>\n",
              "      </button>\n",
              "\n",
              "<style>\n",
              "  .colab-df-quickchart {\n",
              "      --bg-color: #E8F0FE;\n",
              "      --fill-color: #1967D2;\n",
              "      --hover-bg-color: #E2EBFA;\n",
              "      --hover-fill-color: #174EA6;\n",
              "      --disabled-fill-color: #AAA;\n",
              "      --disabled-bg-color: #DDD;\n",
              "  }\n",
              "\n",
              "  [theme=dark] .colab-df-quickchart {\n",
              "      --bg-color: #3B4455;\n",
              "      --fill-color: #D2E3FC;\n",
              "      --hover-bg-color: #434B5C;\n",
              "      --hover-fill-color: #FFFFFF;\n",
              "      --disabled-bg-color: #3B4455;\n",
              "      --disabled-fill-color: #666;\n",
              "  }\n",
              "\n",
              "  .colab-df-quickchart {\n",
              "    background-color: var(--bg-color);\n",
              "    border: none;\n",
              "    border-radius: 50%;\n",
              "    cursor: pointer;\n",
              "    display: none;\n",
              "    fill: var(--fill-color);\n",
              "    height: 32px;\n",
              "    padding: 0;\n",
              "    width: 32px;\n",
              "  }\n",
              "\n",
              "  .colab-df-quickchart:hover {\n",
              "    background-color: var(--hover-bg-color);\n",
              "    box-shadow: 0 1px 2px rgba(60, 64, 67, 0.3), 0 1px 3px 1px rgba(60, 64, 67, 0.15);\n",
              "    fill: var(--button-hover-fill-color);\n",
              "  }\n",
              "\n",
              "  .colab-df-quickchart-complete:disabled,\n",
              "  .colab-df-quickchart-complete:disabled:hover {\n",
              "    background-color: var(--disabled-bg-color);\n",
              "    fill: var(--disabled-fill-color);\n",
              "    box-shadow: none;\n",
              "  }\n",
              "\n",
              "  .colab-df-spinner {\n",
              "    border: 2px solid var(--fill-color);\n",
              "    border-color: transparent;\n",
              "    border-bottom-color: var(--fill-color);\n",
              "    animation:\n",
              "      spin 1s steps(1) infinite;\n",
              "  }\n",
              "\n",
              "  @keyframes spin {\n",
              "    0% {\n",
              "      border-color: transparent;\n",
              "      border-bottom-color: var(--fill-color);\n",
              "      border-left-color: var(--fill-color);\n",
              "    }\n",
              "    20% {\n",
              "      border-color: transparent;\n",
              "      border-left-color: var(--fill-color);\n",
              "      border-top-color: var(--fill-color);\n",
              "    }\n",
              "    30% {\n",
              "      border-color: transparent;\n",
              "      border-left-color: var(--fill-color);\n",
              "      border-top-color: var(--fill-color);\n",
              "      border-right-color: var(--fill-color);\n",
              "    }\n",
              "    40% {\n",
              "      border-color: transparent;\n",
              "      border-right-color: var(--fill-color);\n",
              "      border-top-color: var(--fill-color);\n",
              "    }\n",
              "    60% {\n",
              "      border-color: transparent;\n",
              "      border-right-color: var(--fill-color);\n",
              "    }\n",
              "    80% {\n",
              "      border-color: transparent;\n",
              "      border-right-color: var(--fill-color);\n",
              "      border-bottom-color: var(--fill-color);\n",
              "    }\n",
              "    90% {\n",
              "      border-color: transparent;\n",
              "      border-bottom-color: var(--fill-color);\n",
              "    }\n",
              "  }\n",
              "</style>\n",
              "\n",
              "      <script>\n",
              "        async function quickchart(key) {\n",
              "          const quickchartButtonEl =\n",
              "            document.querySelector('#' + key + ' button');\n",
              "          quickchartButtonEl.disabled = true;  // To prevent multiple clicks.\n",
              "          quickchartButtonEl.classList.add('colab-df-spinner');\n",
              "          try {\n",
              "            const charts = await google.colab.kernel.invokeFunction(\n",
              "                'suggestCharts', [key], {});\n",
              "          } catch (error) {\n",
              "            console.error('Error during call to suggestCharts:', error);\n",
              "          }\n",
              "          quickchartButtonEl.classList.remove('colab-df-spinner');\n",
              "          quickchartButtonEl.classList.add('colab-df-quickchart-complete');\n",
              "        }\n",
              "        (() => {\n",
              "          let quickchartButtonEl =\n",
              "            document.querySelector('#df-761630c5-7fec-44fd-b09d-19579ac66ba2 button');\n",
              "          quickchartButtonEl.style.display =\n",
              "            google.colab.kernel.accessAllowed ? 'block' : 'none';\n",
              "        })();\n",
              "      </script>\n",
              "    </div>\n",
              "\n",
              "    </div>\n",
              "  </div>\n"
            ],
            "application/vnd.google.colaboratory.intrinsic+json": {
              "type": "dataframe",
              "variable_name": "df"
            }
          },
          "metadata": {},
          "execution_count": 93
        }
      ],
      "execution_count": 93
    },
    {
      "cell_type": "markdown",
      "source": [
        "# **Train–Validation–Test Split + First Model (Logistic Regression)**"
      ],
      "metadata": {
        "id": "K6xHO0u0N_oP"
      }
    },
    {
      "cell_type": "code",
      "source": [
        "X = df.drop('Churn', axis=1)  # Features\n",
        "y = df['Churn']               # Target"
      ],
      "metadata": {
        "trusted": true,
        "execution": {
          "iopub.status.busy": "2025-07-11T01:51:27.15252Z",
          "iopub.execute_input": "2025-07-11T01:51:27.152872Z",
          "iopub.status.idle": "2025-07-11T01:51:27.160609Z",
          "shell.execute_reply.started": "2025-07-11T01:51:27.152846Z",
          "shell.execute_reply": "2025-07-11T01:51:27.159513Z"
        },
        "id": "Te6eIzCEN_oQ"
      },
      "outputs": [],
      "execution_count": 94
    },
    {
      "cell_type": "code",
      "source": [
        "print(df['Churn'].isnull().sum())"
      ],
      "metadata": {
        "trusted": true,
        "execution": {
          "iopub.status.busy": "2025-07-11T01:51:27.161369Z",
          "iopub.execute_input": "2025-07-11T01:51:27.161856Z",
          "iopub.status.idle": "2025-07-11T01:51:27.190497Z",
          "shell.execute_reply.started": "2025-07-11T01:51:27.161831Z",
          "shell.execute_reply": "2025-07-11T01:51:27.189038Z"
        },
        "colab": {
          "base_uri": "https://localhost:8080/"
        },
        "id": "93vQdJvvN_oR",
        "outputId": "915e78c9-025b-4bf1-d60b-b281c3bf66ce"
      },
      "outputs": [
        {
          "output_type": "stream",
          "name": "stdout",
          "text": [
            "0\n"
          ]
        }
      ],
      "execution_count": 95
    },
    {
      "cell_type": "code",
      "source": [
        "from sklearn.model_selection import train_test_split\n",
        "# First: Split into train+val and test\n",
        "X_temp, X_test, y_temp, y_test = train_test_split(X, y, test_size=0.2, stratify=y, random_state=42)\n",
        "\n",
        "# Then: Split train+val into train and validation\n",
        "X_train, X_val, y_train, y_val = train_test_split(X_temp, y_temp, test_size=0.25, stratify=y_temp, random_state=42)\n"
      ],
      "metadata": {
        "trusted": true,
        "execution": {
          "iopub.status.busy": "2025-07-11T01:51:27.191783Z",
          "iopub.execute_input": "2025-07-11T01:51:27.192327Z",
          "iopub.status.idle": "2025-07-11T01:51:27.237046Z",
          "shell.execute_reply.started": "2025-07-11T01:51:27.192287Z",
          "shell.execute_reply": "2025-07-11T01:51:27.235048Z"
        },
        "id": "diux_cnhN_oR"
      },
      "outputs": [],
      "execution_count": 96
    },
    {
      "cell_type": "code",
      "source": [
        "# Train model\n",
        "model_lr = LogisticRegression(max_iter=1000)\n",
        "model_lr.fit(X_train, y_train)\n",
        "\n",
        "# Prediction\n",
        "y_val_pred = model_lr.predict(X_val)\n",
        "\n",
        "# Performance\n",
        "print(\"Validation Accuracy:\", accuracy_score(y_val, y_val_pred))\n",
        "print(\"\\nClassification Report:\\n\", classification_report(y_val, y_val_pred))\n",
        "print(\"\\nConfusion Matrix:\\n\", confusion_matrix(y_val, y_val_pred))\n"
      ],
      "metadata": {
        "trusted": true,
        "execution": {
          "iopub.status.busy": "2025-07-11T01:51:27.23834Z",
          "iopub.execute_input": "2025-07-11T01:51:27.238644Z",
          "iopub.status.idle": "2025-07-11T01:51:28.029759Z",
          "shell.execute_reply.started": "2025-07-11T01:51:27.23862Z",
          "shell.execute_reply": "2025-07-11T01:51:28.028161Z"
        },
        "colab": {
          "base_uri": "https://localhost:8080/"
        },
        "id": "mod8G7XdN_oR",
        "outputId": "b6351ed5-a12e-4ee7-bb9a-b6ce18b86ddf"
      },
      "outputs": [
        {
          "output_type": "stream",
          "name": "stdout",
          "text": [
            "Validation Accuracy: 0.7917555081734187\n",
            "\n",
            "Classification Report:\n",
            "               precision    recall  f1-score   support\n",
            "\n",
            "           0       0.83      0.90      0.86      1033\n",
            "           1       0.64      0.51      0.56       374\n",
            "\n",
            "    accuracy                           0.79      1407\n",
            "   macro avg       0.73      0.70      0.71      1407\n",
            "weighted avg       0.78      0.79      0.78      1407\n",
            "\n",
            "\n",
            "Confusion Matrix:\n",
            " [[925 108]\n",
            " [185 189]]\n"
          ]
        }
      ],
      "execution_count": 97
    },
    {
      "cell_type": "code",
      "source": [
        "from sklearn.metrics import f1_score, roc_auc_score\n",
        "\n",
        "y_pred = model_lr.predict(X_val)\n",
        "y_proba = model_lr.predict_proba(X_val)\n",
        "\n",
        "\n",
        "f1_churn = f1_score(y_val, y_pred, pos_label=1)\n",
        "auc_score = roc_auc_score(y_val, y_proba[:, 1])\n",
        "\n",
        "print(f\"F1-Score (Churn Class): {f1_churn:.4f}\")\n",
        "print(f\"AUC-ROC Score: {auc_score:.4f}\")"
      ],
      "metadata": {
        "trusted": true,
        "execution": {
          "iopub.status.busy": "2025-07-11T01:51:28.030978Z",
          "iopub.execute_input": "2025-07-11T01:51:28.032325Z",
          "iopub.status.idle": "2025-07-11T01:51:28.069775Z",
          "shell.execute_reply.started": "2025-07-11T01:51:28.031948Z",
          "shell.execute_reply": "2025-07-11T01:51:28.067602Z"
        },
        "colab": {
          "base_uri": "https://localhost:8080/"
        },
        "id": "LcSEMEBKN_oS",
        "outputId": "a6e879da-eeb7-43c4-9c2c-a7016ba02738"
      },
      "outputs": [
        {
          "output_type": "stream",
          "name": "stdout",
          "text": [
            "F1-Score (Churn Class): 0.5633\n",
            "AUC-ROC Score: 0.8355\n"
          ]
        }
      ],
      "execution_count": 98
    },
    {
      "cell_type": "markdown",
      "source": [
        "AUC-ROC = 0.8315 → Good 📈\n",
        "\n",
        "0.8+ is generally considered good\n",
        "Model performs well overall\n",
        "\n",
        "F1-Score = 0.5628 → Moderate 📊\n",
        "\n",
        "0.5-0.7 range indicates moderate performance\n",
        "Struggling with churn customer detection\n",
        "\n",
        "Conclusion: Model shows good overall performance but needs improvement for churn detection\n",
        "Reason:\n",
        "\n",
        "Class imbalance (fewer churned customers)\n",
        "Precision or Recall might be low"
      ],
      "metadata": {
        "id": "4GxVp-UdN_oS"
      }
    },
    {
      "cell_type": "markdown",
      "source": [
        "# **Model Comparison**"
      ],
      "metadata": {
        "id": "GqDlCLPfN_oT"
      }
    },
    {
      "cell_type": "code",
      "source": [
        "# Multiple Model Comparison - Clean Version\n",
        "from sklearn.neighbors import KNeighborsClassifier\n",
        "from sklearn.ensemble import RandomForestClassifier\n",
        "from sklearn.linear_model import LogisticRegression\n",
        "from sklearn.metrics import accuracy_score, f1_score, roc_auc_score\n",
        "\n",
        "# Define models to test\n",
        "models = {\n",
        "    'Logistic Regression': LogisticRegression(max_iter=1000, random_state=42),\n",
        "    'KNN': KNeighborsClassifier(n_neighbors=11),\n",
        "    'Random Forest': RandomForestClassifier(n_estimators=100, random_state=42)\n",
        "}\n",
        "\n",
        "# Model comparison\n",
        "print(\"=== MODEL COMPARISON ===\")\n",
        "results = {}\n",
        "\n",
        "for name, model in models.items():\n",
        "    # Train model\n",
        "    model.fit(X_train, y_train)\n",
        "\n",
        "    # Predict on validation set\n",
        "    y_pred = model.predict(X_val)\n",
        "    y_proba = model.predict_proba(X_val) if hasattr(model, 'predict_proba') else None\n",
        "\n",
        "    # Calculate metrics\n",
        "    accuracy = accuracy_score(y_val, y_pred)\n",
        "    f1 = f1_score(y_val, y_pred, pos_label=1)\n",
        "    auc = roc_auc_score(y_val, y_proba[:, 1]) if y_proba is not None else None\n",
        "\n",
        "    results[name] = {'Accuracy': accuracy, 'F1': f1, 'AUC': auc}\n",
        "\n",
        "    print(f\"{name}:\")\n",
        "    print(f\"  Accuracy: {accuracy:.4f}\")\n",
        "    print(f\"  F1-Score: {f1:.4f}\")\n",
        "    if auc: print(f\"  AUC-ROC: {auc:.4f}\")\n",
        "    print()\n",
        "\n",
        "# Find best model\n",
        "best_model = max(results, key=lambda x: results[x]['F1'])\n",
        "print(f\"Best Model: {best_model}\")"
      ],
      "metadata": {
        "trusted": true,
        "execution": {
          "iopub.status.busy": "2025-07-11T01:51:28.079046Z",
          "iopub.execute_input": "2025-07-11T01:51:28.081607Z",
          "iopub.status.idle": "2025-07-11T01:51:29.674833Z",
          "shell.execute_reply.started": "2025-07-11T01:51:28.081564Z",
          "shell.execute_reply": "2025-07-11T01:51:29.673761Z"
        },
        "colab": {
          "base_uri": "https://localhost:8080/"
        },
        "id": "_FexYQiRN_oT",
        "outputId": "a8cadfcc-8e1f-4c70-ddc0-678b2586c66a"
      },
      "outputs": [
        {
          "output_type": "stream",
          "name": "stdout",
          "text": [
            "=== MODEL COMPARISON ===\n",
            "Logistic Regression:\n",
            "  Accuracy: 0.7918\n",
            "  F1-Score: 0.5633\n",
            "  AUC-ROC: 0.8355\n",
            "\n",
            "KNN:\n",
            "  Accuracy: 0.7790\n",
            "  F1-Score: 0.4553\n",
            "  AUC-ROC: 0.7769\n",
            "\n",
            "Random Forest:\n",
            "  Accuracy: 0.7761\n",
            "  F1-Score: 0.5131\n",
            "  AUC-ROC: 0.8115\n",
            "\n",
            "Best Model: Logistic Regression\n"
          ]
        }
      ],
      "execution_count": 99
    },
    {
      "cell_type": "code",
      "source": [
        "# Model Performance Summary\n",
        "print(\"=== MODEL PERFORMANCE COMPARISON ===\")\n",
        "print(\"Logistic Regression: Accuracy=0.7946, F1=0.5628, AUC=0.8315\")\n",
        "print(\"KNN: Accuracy=0.7790, F1=0.4534, AUC=0.7694\")\n",
        "print(\"Random Forest: Accuracy=0.7861, F1=0.5215, AUC=0.8193\")\n",
        "print(\"\\n=== ANALYSIS ===\")\n",
        "print(\"Logistic Regression emerges as the top performer across all metrics.\")\n",
        "print(\"With the highest F1-score (0.5628) and AUC (0.8315), it demonstrates\")\n",
        "print(\"superior capability in identifying churned customers while maintaining\")\n",
        "print(\"excellent overall classification performance.\")\n",
        "print(\"\\nKNN shows the weakest performance, particularly in churn detection\")\n",
        "print(\"(F1=0.4534), suggesting that the current parameter settings may not\")\n",
        "print(\"be optimal for this dataset's characteristics.\")\n",
        "print(\"\\nRandom Forest performs moderately well but fails to surpass the\")\n",
        "print(\"baseline Logistic Regression, indicating potential for improvement\")\n",
        "print(\"through hyperparameter optimization.\")\n",
        "print(\"\\nConclusion: Logistic Regression provides the best balance of\")\n",
        "print(\"interpretability and performance for this churn prediction task.\")"
      ],
      "metadata": {
        "trusted": true,
        "execution": {
          "iopub.status.busy": "2025-07-11T01:51:29.675877Z",
          "iopub.execute_input": "2025-07-11T01:51:29.676224Z",
          "iopub.status.idle": "2025-07-11T01:51:29.684351Z",
          "shell.execute_reply.started": "2025-07-11T01:51:29.676147Z",
          "shell.execute_reply": "2025-07-11T01:51:29.683008Z"
        },
        "colab": {
          "base_uri": "https://localhost:8080/"
        },
        "id": "HzWAtVgLN_oU",
        "outputId": "f1699988-e217-4614-d353-afd83888fe10"
      },
      "outputs": [
        {
          "output_type": "stream",
          "name": "stdout",
          "text": [
            "=== MODEL PERFORMANCE COMPARISON ===\n",
            "Logistic Regression: Accuracy=0.7946, F1=0.5628, AUC=0.8315\n",
            "KNN: Accuracy=0.7790, F1=0.4534, AUC=0.7694\n",
            "Random Forest: Accuracy=0.7861, F1=0.5215, AUC=0.8193\n",
            "\n",
            "=== ANALYSIS ===\n",
            "Logistic Regression emerges as the top performer across all metrics.\n",
            "With the highest F1-score (0.5628) and AUC (0.8315), it demonstrates\n",
            "superior capability in identifying churned customers while maintaining\n",
            "excellent overall classification performance.\n",
            "\n",
            "KNN shows the weakest performance, particularly in churn detection\n",
            "(F1=0.4534), suggesting that the current parameter settings may not\n",
            "be optimal for this dataset's characteristics.\n",
            "\n",
            "Random Forest performs moderately well but fails to surpass the\n",
            "baseline Logistic Regression, indicating potential for improvement\n",
            "through hyperparameter optimization.\n",
            "\n",
            "Conclusion: Logistic Regression provides the best balance of\n",
            "interpretability and performance for this churn prediction task.\n"
          ]
        }
      ],
      "execution_count": 100
    },
    {
      "cell_type": "markdown",
      "source": [
        "**Test Set Evaluation**"
      ],
      "metadata": {
        "id": "TeVc0ZgJN_oV"
      }
    },
    {
      "cell_type": "code",
      "source": [
        "# Final Model Evaluation on Test Set\n",
        "print(\"=== FINAL MODEL EVALUATION ON TEST SET ===\")\n",
        "\n",
        "# Use best model (Logistic Regression)\n",
        "final_model = LogisticRegression(max_iter=1000, random_state=42)\n",
        "final_model.fit(X_train, y_train)\n",
        "\n",
        "# Test set predictions\n",
        "y_test_pred = final_model.predict(X_test)\n",
        "y_test_proba = final_model.predict_proba(X_test)\n",
        "\n",
        "# Final metrics\n",
        "test_accuracy = accuracy_score(y_test, y_test_pred)\n",
        "test_f1 = f1_score(y_test, y_test_pred, pos_label=1)\n",
        "test_auc = roc_auc_score(y_test, y_test_proba[:, 1])\n",
        "\n",
        "print(f\"Test Accuracy: {test_accuracy:.4f}\")\n",
        "print(f\"Test F1-Score: {test_f1:.4f}\")\n",
        "print(f\"Test AUC-ROC: {test_auc:.4f}\")"
      ],
      "metadata": {
        "trusted": true,
        "execution": {
          "iopub.status.busy": "2025-07-11T01:51:29.685512Z",
          "iopub.execute_input": "2025-07-11T01:51:29.685843Z",
          "iopub.status.idle": "2025-07-11T01:51:30.614618Z",
          "shell.execute_reply.started": "2025-07-11T01:51:29.685812Z",
          "shell.execute_reply": "2025-07-11T01:51:30.611417Z"
        },
        "colab": {
          "base_uri": "https://localhost:8080/"
        },
        "id": "f6hVjlCaN_oV",
        "outputId": "53bc5857-c459-4add-a08c-9753dec042a4"
      },
      "outputs": [
        {
          "output_type": "stream",
          "name": "stdout",
          "text": [
            "=== FINAL MODEL EVALUATION ON TEST SET ===\n",
            "Test Accuracy: 0.8003\n",
            "Test F1-Score: 0.6014\n",
            "Test AUC-ROC: 0.8364\n"
          ]
        }
      ],
      "execution_count": 101
    },
    {
      "cell_type": "markdown",
      "source": [
        "**Feature Importance Analysis**"
      ],
      "metadata": {
        "id": "L1g8SHtfN_oV"
      }
    },
    {
      "cell_type": "code",
      "source": [
        "# Feature Importance Analysis\n",
        "\n",
        "# Get feature importance (coefficients for Logistic Regression)\n",
        "feature_names = X_train.columns\n",
        "coefficients = final_model.coef_[0]\n",
        "\n",
        "# Create feature importance dataframe\n",
        "feature_importance = pd.DataFrame({\n",
        "    'feature': feature_names,\n",
        "    'importance': np.abs(coefficients)\n",
        "}).sort_values('importance', ascending=False)\n",
        "\n",
        "# Display top 10 most important features\n",
        "print(\"=== TOP 10 MOST IMPORTANT FEATURES ===\")\n",
        "print(feature_importance.head(10))\n",
        "\n",
        "# Plot feature importance\n",
        "plt.figure(figsize=(12, 8))\n",
        "plt.barh(feature_importance.head(10)['feature'], feature_importance.head(10)['importance'])\n",
        "plt.xlabel('Feature Importance (Absolute Coefficient)')\n",
        "plt.title('Top 10 Most Important Features for Churn Prediction')\n",
        "plt.gca().invert_yaxis()\n",
        "plt.tight_layout()\n",
        "plt.show()"
      ],
      "metadata": {
        "trusted": true,
        "execution": {
          "iopub.status.busy": "2025-07-11T01:51:30.615675Z",
          "iopub.execute_input": "2025-07-11T01:51:30.619156Z",
          "iopub.status.idle": "2025-07-11T01:51:30.927288Z",
          "shell.execute_reply.started": "2025-07-11T01:51:30.619113Z",
          "shell.execute_reply": "2025-07-11T01:51:30.925829Z"
        },
        "colab": {
          "base_uri": "https://localhost:8080/",
          "height": 851
        },
        "id": "L8w4_nBoN_oW",
        "outputId": "746bac5c-72a9-4bc2-f686-89640a2559e8"
      },
      "outputs": [
        {
          "output_type": "stream",
          "name": "stdout",
          "text": [
            "=== TOP 10 MOST IMPORTANT FEATURES ===\n",
            "                           feature  importance\n",
            "26               Contract_Two year    1.285189\n",
            "25               Contract_One year    0.852626\n",
            "11     InternetService_Fiber optic    0.690010\n",
            "14              OnlineSecurity_Yes    0.486735\n",
            "5                     PhoneService    0.464193\n",
            "20                 TechSupport_Yes    0.454238\n",
            "10               MultipleLines_Yes    0.304984\n",
            "6                 PaperlessBilling    0.289862\n",
            "3                       Dependents    0.281583\n",
            "9   MultipleLines_No phone service    0.281107\n"
          ]
        },
        {
          "output_type": "display_data",
          "data": {
            "text/plain": [
              "<Figure size 1200x800 with 1 Axes>"
            ],
            "image/png": "[encoded data removed]"
          },
          "metadata": {}
        }
      ],
      "execution_count": 102
    },
    {
      "cell_type": "code",
      "source": [
        "#  Hyperparameter Tuning for Random Forest\n",
        "from sklearn.model_selection import GridSearchCV\n",
        "\n",
        "# Define parameter grid\n",
        "param_grid = {\n",
        "    'n_estimators': [50, 100, 200],\n",
        "    'max_depth': [10, 20, None],\n",
        "    'min_samples_split': [2, 5, 10],\n",
        "    'min_samples_leaf': [1, 2, 4]\n",
        "}\n",
        "\n",
        "# Grid search with cross-validation\n",
        "rf_grid = GridSearchCV(\n",
        "    RandomForestClassifier(random_state=42),\n",
        "    param_grid,\n",
        "    cv=5,\n",
        "    scoring='f1',\n",
        "    n_jobs=-1,\n",
        "    verbose=1\n",
        ")\n",
        "\n",
        "print(\"=== HYPERPARAMETER TUNING - RANDOM FOREST ===\")\n",
        "print(\"Starting Grid Search...\")\n",
        "rf_grid.fit(X_train, y_train)\n",
        "\n",
        "# Best parameters\n",
        "print(f\"Best Parameters: {rf_grid.best_params_}\")\n",
        "print(f\"Best CV F1-Score: {rf_grid.best_score_:.4f}\")\n",
        "\n",
        "# Test tuned model\n",
        "tuned_rf = rf_grid.best_estimator_\n",
        "y_pred_tuned = tuned_rf.predict(X_val)\n",
        "y_proba_tuned = tuned_rf.predict_proba(X_val)\n",
        "\n",
        "tuned_f1 = f1_score(y_val, y_pred_tuned, pos_label=1)\n",
        "tuned_auc = roc_auc_score(y_val, y_proba_tuned[:, 1])\n",
        "\n",
        "print(f\"Tuned Random Forest - F1: {tuned_f1:.4f}, AUC: {tuned_auc:.4f}\")"
      ],
      "metadata": {
        "trusted": true,
        "execution": {
          "iopub.status.busy": "2025-07-11T01:51:30.928162Z",
          "iopub.execute_input": "2025-07-11T01:51:30.929104Z",
          "iopub.status.idle": "2025-07-11T01:53:03.965525Z",
          "shell.execute_reply.started": "2025-07-11T01:51:30.929056Z",
          "shell.execute_reply": "2025-07-11T01:53:03.964276Z"
        },
        "colab": {
          "base_uri": "https://localhost:8080/"
        },
        "id": "s5GQNtcPN_om",
        "outputId": "8856b3a8-c4a7-4296-df97-19740b516398"
      },
      "outputs": [
        {
          "output_type": "stream",
          "name": "stdout",
          "text": [
            "=== HYPERPARAMETER TUNING - RANDOM FOREST ===\n",
            "Starting Grid Search...\n",
            "Fitting 5 folds for each of 81 candidates, totalling 405 fits\n",
            "Best Parameters: {'max_depth': 10, 'min_samples_leaf': 2, 'min_samples_split': 10, 'n_estimators': 200}\n",
            "Best CV F1-Score: 0.6000\n",
            "Tuned Random Forest - F1: 0.5263, AUC: 0.8343\n"
          ]
        }
      ],
      "execution_count": 103
    }
  ]
}